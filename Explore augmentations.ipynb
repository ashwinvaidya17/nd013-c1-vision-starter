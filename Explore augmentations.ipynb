{
 "cells": [
  {
   "cell_type": "markdown",
   "source": [
    "# Explore data augmentations\n",
    "\n",
    "This notebook will be used to test different data augmentation strategies. In your config file, you can modify the augmentations by adding `data_augmentation_options`. For example, I would like to add a random RGB to gray transform with a probability of 0.2:\n",
    "```\n",
    "data_augmentation_options {\n",
    "    random_rgb_to_gray {\n",
    "    probability: 0.2\n",
    "    }\n",
    "```\n",
    "\n",
    "A complete list of augmentation is provided the [`preprocessor.proto` file of the Tf Object Detection API](https://github.com/tensorflow/models/blob/master/research/object_detection/protos/preprocessor.proto)."
   ],
   "metadata": {}
  },
  {
   "cell_type": "markdown",
   "source": [],
   "metadata": {}
  },
  {
   "cell_type": "markdown",
   "source": [
    "### Helper functions"
   ],
   "metadata": {}
  },
  {
   "cell_type": "code",
   "execution_count": null,
   "source": [
    "import matplotlib.pyplot as plt\n",
    "import numpy as np\n",
    "from matplotlib.patches import Rectangle"
   ],
   "outputs": [],
   "metadata": {}
  },
  {
   "cell_type": "code",
   "execution_count": null,
   "source": [
    "def recenter_image(image):\n",
    "    # ssd preprocessing\n",
    "    image += [123.68, 116.779, 103.939]\n",
    "    return image\n",
    "\n",
    "\n",
    "def display_instances(image, bboxes, classes):\n",
    "    # Cyclists show up as 0 in the one-hot encoding\n",
    "    label_map = {1: \"vehicle\", 2: \"pedestrian\", 3: \"Signs\", 0: \"Cyclists\"}\n",
    "    color_map = {1: \"xkcd:fresh green\", 2: \"xkcd:cherry red\", 3: \"xkcd:azure\", 0: \"xkcd:butter yellow\"}\n",
    "\n",
    "    image = recenter_image(image)\n",
    "    w, h, _ = image.shape\n",
    "    # resize the bboxes\n",
    "    bboxes[:, [0, 2]] *= w\n",
    "    bboxes[:, [1, 3]] *= h\n",
    "\n",
    "    f, ax = plt.subplots(1, figsize=(10, 10))\n",
    "    ax.imshow(image.astype(np.uint8))\n",
    "    for bb, cl in zip(bboxes, classes):\n",
    "        cl = int(\"\".join([str(int(i)) for i in cl[::-1]]), 2)  # convert one hot class to int\n",
    "        y1, x1, y2, x2 = bb\n",
    "        rec = Rectangle((x1, y1), x2 - x1, y2 - y1, facecolor=\"none\", edgecolor=color_map[cl], linewidth=2)\n",
    "        # show the correct labels on the bounding boxes\n",
    "        ax.text(x1, y1, label_map[cl], color=color_map[cl], size=\"large\")\n",
    "        ax.add_patch(rec)\n",
    "    plt.show()\n",
    "\n",
    "\n",
    "def display_batch(batch):\n",
    "    # get images, bboxes and classes\n",
    "    batched_images = batch[0][\"image\"].numpy()\n",
    "    batched_bboxes = batch[1][\"groundtruth_boxes\"].numpy()\n",
    "    batched_classes = batch[1][\"groundtruth_classes\"].numpy()\n",
    "    num_bboxes = batch[1][\"num_groundtruth_boxes\"].numpy()\n",
    "    batch_size = batched_images.shape[0]\n",
    "    for idx in range(batch_size):\n",
    "        display_instances(\n",
    "            batched_images[idx, ...], batched_bboxes[idx, : num_bboxes[idx], :], batched_classes[idx, ...]\n",
    "        )\n"
   ],
   "outputs": [],
   "metadata": {}
  },
  {
   "cell_type": "markdown",
   "source": [
    "### Display augmentations"
   ],
   "metadata": {}
  },
  {
   "cell_type": "code",
   "execution_count": null,
   "source": [
    "from utils import get_train_input"
   ],
   "outputs": [],
   "metadata": {}
  },
  {
   "cell_type": "code",
   "execution_count": null,
   "source": [
    "train_dataset = get_train_input(\"training/experiment10/pipeline_new.config\")"
   ],
   "outputs": [],
   "metadata": {}
  },
  {
   "cell_type": "code",
   "execution_count": null,
   "source": [
    "%matplotlib inline\n",
    "\n",
    "for batch in train_dataset.take(1):\n",
    "    display_batch(batch)"
   ],
   "outputs": [],
   "metadata": {
    "scrolled": false
   }
  }
 ],
 "metadata": {
  "kernelspec": {
   "name": "python3",
   "display_name": "Python 3.8.10 64-bit"
  },
  "language_info": {
   "codemirror_mode": {
    "name": "ipython",
    "version": 3
   },
   "file_extension": ".py",
   "mimetype": "text/x-python",
   "name": "python",
   "nbconvert_exporter": "python",
   "pygments_lexer": "ipython3",
   "version": "3.8.10"
  },
  "interpreter": {
   "hash": "916dbcbb3f70747c44a77c7bcd40155683ae19c65e1c03b4aa3499c5328201f1"
  }
 },
 "nbformat": 4,
 "nbformat_minor": 4
}