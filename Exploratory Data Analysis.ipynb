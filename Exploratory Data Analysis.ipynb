{
 "cells": [
  {
   "cell_type": "markdown",
   "source": [
    "# Explore the dataset\n",
    "\n",
    "\n",
    "In this notebook, we will perform an EDA (Exploratory Data Analysis) on the processed Waymo dataset (data in the `processed` folder). In the first part, you will create a function to display "
   ],
   "metadata": {}
  },
  {
   "cell_type": "code",
   "execution_count": null,
   "source": [
    "%matplotlib inline\n",
    "from utils import get_dataset\n",
    "import matplotlib.pyplot as plt\n",
    "import numpy as np\n",
    "from matplotlib.patches import Rectangle\n",
    "import glob\n",
    "import seaborn as sns\n",
    "import pandas as pd"
   ],
   "outputs": [],
   "metadata": {}
  },
  {
   "cell_type": "code",
   "execution_count": null,
   "source": [
    "dataset = get_dataset(\"/data/waymo/processed/train/segment-10072231702153043603_5725_000_5745_000_with_camera_labels.tfrecord\", label_map=\"label_map.pbtxt\")"
   ],
   "outputs": [],
   "metadata": {}
  },
  {
   "cell_type": "markdown",
   "source": [
    "## Write a function to display an image and the bounding boxes\n",
    "\n",
    "Implement the `display_instances` function below. This function takes a batch as an input and display an image with its corresponding bounding boxes. The only requirement is that the classes should be color coded (eg, vehicles in red, pedestrians in blue, cyclist in green)."
   ],
   "metadata": {}
  },
  {
   "cell_type": "code",
   "execution_count": null,
   "source": [
    "def display_instances(batch):\n",
    "    \"\"\"\n",
    "    This function takes a batch from the dataset and display the image with\n",
    "    the associated bounding boxes.\n",
    "    \"\"\"\n",
    "    image = batch[\"image\"].numpy()\n",
    "    h, w, _ = image.shape\n",
    "    _, ax = plt.subplots(1, figsize=(10, 10))\n",
    "    ax.imshow(image.astype(np.uint8))\n",
    "    gt_boxes = batch[\"groundtruth_boxes\"].numpy()\n",
    "    gt_boxes[:, [0, 2]] *= w\n",
    "    gt_boxes[:, [1, 3]] *= h\n",
    "    for box in gt_boxes:\n",
    "        y1, x1, y2, x2 = box\n",
    "        rect = Rectangle((x1, y1), x2 - x1, y2 - y1, \n",
    "                         facecolor=\"none\", edgecolor=\"r\", linewidth=2)\n",
    "        ax.add_patch(rect)\n",
    "    \n",
    "    plt.show()\n"
   ],
   "outputs": [],
   "metadata": {}
  },
  {
   "cell_type": "markdown",
   "source": [
    "## Display 10 images \n",
    "\n",
    "Using the dataset created in the second cell and the function you just coded, display 10 random images with the associated bounding boxes. You can use the methods `take` and `shuffle` on the dataset."
   ],
   "metadata": {}
  },
  {
   "cell_type": "code",
   "execution_count": null,
   "source": [
    "## STUDENT SOLUTION HERE\n",
    "for _ in range(10):\n",
    "    new_dataset = dataset.shuffle(64)\n",
    "    for sample in new_dataset:\n",
    "        display_instances(sample) # displays 1 image\n",
    "        break"
   ],
   "outputs": [],
   "metadata": {}
  },
  {
   "cell_type": "markdown",
   "source": [
    "## Additional EDA\n",
    "\n",
    "In this last part, you are free to perform any additional analysis of the dataset. What else would like to know about the data?\n",
    "For example, think about data distribution. So far, you have only looked at a single file..."
   ],
   "metadata": {}
  },
  {
   "cell_type": "code",
   "execution_count": null,
   "source": [
    "def display_instances_with_detail(batch):\n",
    "    \"\"\"\n",
    "    This function takes a batch from the dataset and display the image with\n",
    "    the associated bounding boxes and the corresponding class labels\n",
    "    \"\"\"\n",
    "    label_map = {1: \"vehicle\", 2: \"pedestrian\", 3: \"Signs\", 4: \"Cyclists\"}\n",
    "    color_map = {1: \"xkcd:fresh green\", 2: \"xkcd:cherry red\", 3: \"xkcd:azure\", 4:\"xkcd:butter yellow\"}\n",
    "    image = batch[\"image\"]\n",
    "    h, w, _ = image.shape\n",
    "    _, ax = plt.subplots(1, figsize=(10, 10))\n",
    "    ax.imshow(image.astype(np.uint8))\n",
    "    gt_boxes = batch[\"groundtruth_boxes\"].copy()\n",
    "    gt_boxes[:, [0, 2]] *= w\n",
    "    gt_boxes[:, [1, 3]] *= h\n",
    "    for box, label in zip(gt_boxes, batch[\"groundtruth_classes\"]):\n",
    "        y1, x1, y2, x2 = box\n",
    "        rect = Rectangle((x1, y1), x2 - x1, y2 - y1, facecolor=\"none\", edgecolor=color_map[label], linewidth=2)\n",
    "        ax.text(x1, y1, label_map[label], color=color_map[label], size=\"large\")\n",
    "        ax.add_patch(rect)\n",
    "\n",
    "    plt.show()\n"
   ],
   "outputs": [],
   "metadata": {}
  },
  {
   "cell_type": "code",
   "execution_count": null,
   "source": [
    "for _ in range(10):\n",
    "    new_dataset = dataset.shuffle(64)\n",
    "    sample = next(dataset.as_numpy_iterator())\n",
    "    display_instances_with_detail(sample)  # displays 1 image\n"
   ],
   "outputs": [],
   "metadata": {}
  },
  {
   "cell_type": "code",
   "execution_count": null,
   "source": [
    "def get_dataset_statistics(batch):\n",
    "    \"\"\"This function returns different statistics for the entire dataset.\n",
    "    For example the height and width of each bounding box\n",
    "    scaled to image size\"\"\"\n",
    "    image = batch[\"image\"].numpy()\n",
    "    h, w, _ = image.shape\n",
    "    gt_boxes = batch[\"groundtruth_boxes\"].numpy()\n",
    "    gt_boxes[:, [0, 2]] *= w\n",
    "    gt_boxes[:, [1, 3]] *= h\n",
    "    dims = []\n",
    "    for box in gt_boxes:\n",
    "        y1, x1, y2, x2 = box\n",
    "        dims.append([x2 - x1, y2 - y1])\n",
    "\n",
    "    class_counts = {\"pedestrian\":0, \"cyclist\":0, \"sign\":0, \"vehicle\":0}\n",
    "    label_map = {1: \"vehicle\", 2: \"pedestrian\", 3: \"sign\", 4: \"cyclist\"}\n",
    "    gt_classes = batch[\"groundtruth_classes\"].numpy()\n",
    "    for label in gt_classes:\n",
    "        class_counts[label_map[label]] += 1\n",
    "\n",
    "    return {'dims':dims, 'classes':class_counts}\n"
   ],
   "outputs": [],
   "metadata": {}
  },
  {
   "cell_type": "code",
   "execution_count": null,
   "source": [
    "dim_list = []\n",
    "num_images = 0\n",
    "pedestrians = 0\n",
    "cyclists = 0\n",
    "signs = 0\n",
    "vehicles = 0\n",
    "# get statistics from first n frames of each tfrecord\n",
    "for ds_path in glob.glob(\"/data/waymo/processed/test/segment*.tfrecord\"):\n",
    "    dataset = get_dataset(ds_path, label_map=\"label_map.pbtxt\")\n",
    "    for idx, sample in enumerate(dataset):\n",
    "        num_images += 1\n",
    "        stats = get_dataset_statistics(sample)\n",
    "        dim_list.extend(stats['dims'])\n",
    "        cyclists += stats['classes']['cyclist']\n",
    "        pedestrians += stats['classes']['pedestrian']\n",
    "        signs += stats['classes']['sign']\n",
    "        vehicles += stats['classes']['vehicle']\n",
    "        if (idx+1)%25000 == 0:\n",
    "            break\n"
   ],
   "outputs": [],
   "metadata": {}
  },
  {
   "cell_type": "markdown",
   "source": [
    "## Distribution of bounding box dimensions"
   ],
   "metadata": {}
  },
  {
   "cell_type": "code",
   "execution_count": null,
   "source": [
    "print(\"Total number of bounding boxes: \", len(dim_list))\n",
    "_, ax = plt.subplots()\n",
    "dim_list = np.array(dim_list)\n",
    "sns.set_theme(style=\"whitegrid\")\n",
    "sns.scatterplot(dim_list[:, 0], dim_list[:, 1], ax=ax)\n",
    "plt.xlabel(\"Width\")\n",
    "plt.ylabel(\"Height\")\n",
    "plt.title(\"Distribution of Bounding Box Dimensions in Test Split\")\n",
    "plt.show()"
   ],
   "outputs": [],
   "metadata": {}
  },
  {
   "cell_type": "code",
   "execution_count": null,
   "source": [
    "areas = dim_list[:, 0]* dim_list[:, 1]\n",
    "sns.set_theme(style=\"ticks\")\n",
    "f, ax = plt.subplots(figsize=(7, 5))\n",
    "sns.despine(f)\n",
    "sns.histplot(\n",
    "    areas,\n",
    "    palette=\"rocket\",\n",
    "    edgecolor=\".3\",\n",
    "    linewidth=7,\n",
    "    log_scale=True,\n",
    ")\n",
    "plt.xlabel(\"Area\")\n",
    "plt.show()"
   ],
   "outputs": [],
   "metadata": {}
  },
  {
   "cell_type": "markdown",
   "source": [
    "## Statistics on Class Distribution"
   ],
   "metadata": {}
  },
  {
   "cell_type": "code",
   "execution_count": null,
   "source": [
    "data = pd.DataFrame(\n",
    "    {\"Number of Annotations\": [cyclists, pedestrians, signs, vehicles], \"label\": [\"cyclists\", \"pedestrians\", \"signs\", \"vehicles\"]}\n",
    ")\n",
    "print(cyclists)\n",
    "print(pedestrians)\n",
    "print(signs)\n",
    "print(vehicles)\n",
    "sns.color_palette(\"rocket\", as_cmap=True)\n",
    "sns.catplot(\"label\", \"Number of Annotations\", kind=\"bar\", data=data, legend=True)\n"
   ],
   "outputs": [],
   "metadata": {}
  },
  {
   "cell_type": "code",
   "execution_count": null,
   "source": [
    "def display_instances_show_only_area(batch, area_thresh):\n",
    "    \"\"\"\n",
    "    This function takes a batch from the dataset and display the image with\n",
    "    the associated bounding boxes but shows only the bounding boxes with areas below the threshold\n",
    "    \"\"\"\n",
    "    plt.clf()\n",
    "    image = batch[\"image\"]\n",
    "    h, w, _ = image.shape\n",
    "    _, ax = plt.subplots(1, figsize=(10, 10))\n",
    "    ax.imshow(image.astype(np.uint8))\n",
    "    gt_boxes = batch[\"groundtruth_boxes\"].copy()\n",
    "    gt_boxes[:, [0, 2]] *= w\n",
    "    gt_boxes[:, [1, 3]] *= h\n",
    "    exists_bbs = True\n",
    "    for box in gt_boxes:\n",
    "        y1, x1, y2, x2 = box\n",
    "        if (x2-x1)*(y2-y1) < area_thresh:\n",
    "            rect = Rectangle((x1, y1), x2 - x1, y2 - y1, facecolor=\"none\", edgecolor=\"r\", linewidth=2)\n",
    "            ax.add_patch(rect)\n",
    "            exists_bbs = False\n",
    "    if exists_bbs:\n",
    "        plt.show()\n",
    "\n",
    "for _ in range(10):\n",
    "    new_dataset = dataset.shuffle(64)\n",
    "    sample = next(dataset.as_numpy_iterator())\n",
    "    display_instances_show_only_area(sample, 200)  # displays 1 image"
   ],
   "outputs": [],
   "metadata": {}
  }
 ],
 "metadata": {
  "kernelspec": {
   "name": "python3",
   "display_name": "Python 3.8.10 64-bit"
  },
  "language_info": {
   "codemirror_mode": {
    "name": "ipython",
    "version": 3
   },
   "file_extension": ".py",
   "mimetype": "text/x-python",
   "name": "python",
   "nbconvert_exporter": "python",
   "pygments_lexer": "ipython3",
   "version": "3.8.10"
  },
  "interpreter": {
   "hash": "916dbcbb3f70747c44a77c7bcd40155683ae19c65e1c03b4aa3499c5328201f1"
  }
 },
 "nbformat": 4,
 "nbformat_minor": 4
}